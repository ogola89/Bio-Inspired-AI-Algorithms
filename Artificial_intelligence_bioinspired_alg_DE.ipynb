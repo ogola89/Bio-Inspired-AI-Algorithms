{
  "nbformat": 4,
  "nbformat_minor": 0,
  "metadata": {
    "colab": {
      "name": "Artificial intelligence bioinspired alg - DE.ipynb",
      "provenance": [],
      "collapsed_sections": [],
      "include_colab_link": true
    },
    "kernelspec": {
      "name": "python3",
      "display_name": "Python 3"
    },
    "language_info": {
      "name": "python"
    }
  },
  "cells": [
    {
      "cell_type": "markdown",
      "metadata": {
        "id": "view-in-github",
        "colab_type": "text"
      },
      "source": [
        "<a href=\"https://colab.research.google.com/github/ogola89/Bio-Inspired-AI-Algorithms/blob/main/Artificial_intelligence_bioinspired_alg_DE.ipynb\" target=\"_parent\"><img src=\"https://colab.research.google.com/assets/colab-badge.svg\" alt=\"Open In Colab\"/></a>"
      ]
    },
    {
      "cell_type": "markdown",
      "source": [
        "# Artificial bioinspired algorithms - Differential Evolution - Nutrient alocation"
      ],
      "metadata": {
        "id": "obbTCx0OriPx"
      }
    },
    {
      "cell_type": "markdown",
      "source": [
        "\n",
        "Solution/nutrient combination"
      ],
      "metadata": {
        "id": "QZTktARWry_x"
      }
    },
    {
      "cell_type": "code",
      "execution_count": null,
      "metadata": {
        "id": "FnMsRZnjru9o"
      },
      "outputs": [],
      "source": [
        "import random\n",
        "import matplotlib.pyplot as plt\n",
        "\n",
        "CR = 0.5\n",
        "F = 0.8\n",
        "\n",
        "def combination():\n",
        "  items = []\n",
        "  for i in range(5):\n",
        "    quant = random.randint(0,199) + random.random()\n",
        "    items.append(quant)\n",
        "  return items\n",
        "\n"
      ]
    },
    {
      "cell_type": "code",
      "source": [
        "combination()\n"
      ],
      "metadata": {
        "id": "bJNpgS0eZYSC",
        "colab": {
          "base_uri": "https://localhost:8080/"
        },
        "outputId": "8f2a0935-0c33-4cf0-86b4-9b9c24f36d90"
      },
      "execution_count": null,
      "outputs": [
        {
          "output_type": "execute_result",
          "data": {
            "text/plain": [
              "[169.8773930617424,\n",
              " 181.92912211335562,\n",
              " 90.64993680920395,\n",
              " 102.40846411294059,\n",
              " 151.86958103667868]"
            ]
          },
          "metadata": {},
          "execution_count": 15
        }
      ]
    },
    {
      "cell_type": "markdown",
      "source": [
        "![image.png](data:image/png;base64,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)"
      ],
      "metadata": {
        "id": "EB54Y5YRg-AS"
      }
    },
    {
      "cell_type": "markdown",
      "source": [
        "Population of solutions"
      ],
      "metadata": {
        "id": "2EAnzeuVInAU"
      }
    },
    {
      "cell_type": "code",
      "source": [
        "def population(num):\n",
        "  pop = []\n",
        "  for i in range(num):\n",
        "    pop.append(combination())\n",
        "  return pop\n"
      ],
      "metadata": {
        "id": "UCdaFpH2Io2B"
      },
      "execution_count": null,
      "outputs": []
    },
    {
      "cell_type": "code",
      "source": [
        "pop = population(5)\n",
        "\n",
        "for i in pop:\n",
        "  print(i)\n",
        "\n"
      ],
      "metadata": {
        "id": "uFayTJlPebl4",
        "colab": {
          "base_uri": "https://localhost:8080/"
        },
        "outputId": "6d1a77ae-24de-4a11-cf4a-e3cf430e739c"
      },
      "execution_count": null,
      "outputs": [
        {
          "output_type": "stream",
          "name": "stdout",
          "text": [
            "[174.0619792138792, 142.62419975992992, 128.73506084515407, 33.50892702587886, 124.67845879997839]\n",
            "[51.333635273455364, 104.73481931936469, 60.643278897988075, 33.927240602528684, 94.01094677358745]\n",
            "[77.21511351655418, 144.33700860363135, 19.89232634994997, 78.44762652597281, 77.34845545269417]\n",
            "[23.21625160398139, 126.34055346583015, 63.2761494490876, 70.97596321247572, 67.28765177857382]\n",
            "[75.50456974543175, 86.30001523396687, 105.08713382850334, 168.42763983469354, 158.9874825583598]\n"
          ]
        }
      ]
    },
    {
      "cell_type": "markdown",
      "source": [
        "Objective/fitness function"
      ],
      "metadata": {
        "id": "esrKXxsfIhBr"
      }
    },
    {
      "cell_type": "markdown",
      "source": [
        "![image.png](data:image/png;base64,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)"
      ],
      "metadata": {
        "id": "RxQhTlBYhNuQ"
      }
    },
    {
      "cell_type": "code",
      "source": [
        "def divergence(dish,show=True):\n",
        "  carbs = dish[0]*0.05 + dish[1]*0.24 + dish[2]*0.26 + dish[3]*0.015 + dish[4]*0.29\n",
        "  prots = dish[0]*0.23 + dish[1]*0.02 + dish[2]*0.026 + dish[3]*0.13 + dish[4]*0.095\n",
        "  lips = dish[0]*0.05 + dish[1]*0 + dish[2]*0.01 + dish[3]*0.089 + dish[4]*0.14\n",
        "\n",
        "  total = carbs + lips + prots\n",
        "  summ = sum(dish)\n",
        "\n",
        "  porcCarb = (carbs/total)*100\n",
        "  porcProt = (prots/total)*100\n",
        "  porcLip = (lips/total)*100\n",
        "\n",
        "  difCarb = abs(porcCarb-55)\n",
        "  difProt = abs(porcProt-30)\n",
        "  difLip = abs(porcLip-15)\n",
        "\n",
        "  if show:\n",
        "    print(f'Carbs: {porcCarb}')\n",
        "    print(f'Lips: {porcProt}')\n",
        "    print(f'Prots: {porcLip}')\n",
        "    print(f'Total of grams: {summ}g')\n",
        "  \n",
        "  totalDif = difCarb + difLip + difProt\n",
        "  return totalDif\n"
      ],
      "metadata": {
        "id": "tQ2IHRDowX5_"
      },
      "execution_count": null,
      "outputs": []
    },
    {
      "cell_type": "code",
      "source": [
        "x = combination()\n",
        "\n",
        "print(x)\n",
        "print(divergence(x,show=True))\n",
        "\n",
        "\n"
      ],
      "metadata": {
        "id": "HDjbla5QGD9D",
        "colab": {
          "base_uri": "https://localhost:8080/"
        },
        "outputId": "4d8fbdb5-70fe-495c-e96d-29da57fa8730"
      },
      "execution_count": null,
      "outputs": [
        {
          "output_type": "stream",
          "name": "stdout",
          "text": [
            "[95.7003770727219, 23.158220980828315, 87.07547068096092, 185.58878159541345, 162.0536482420981]\n",
            "Carbs: 43.131596737779546\n",
            "Lips: 33.48916013683094\n",
            "Prots: 23.37924312538952\n",
            "Total of grams: 553.5764985720227g\n",
            "23.736806524440915\n"
          ]
        }
      ]
    },
    {
      "cell_type": "markdown",
      "source": [
        "Selection of three vectors"
      ],
      "metadata": {
        "id": "V9Wsch9ENK7L"
      }
    },
    {
      "cell_type": "code",
      "source": [
        "def select3(parental,population):\n",
        "  p2 = []\n",
        "  three_vectors = []\n",
        "  for v in population:\n",
        "    if parental != v:\n",
        "      p2.append(v)\n",
        "  for j in range(3):\n",
        "    rand = random.choice(p2)\n",
        "    three_vectors.append(rand)\n",
        "    p2.remove(rand)\n",
        "  return three_vectors\n",
        "\n",
        "\n"
      ],
      "metadata": {
        "id": "7hA5-exju3Q2"
      },
      "execution_count": null,
      "outputs": []
    },
    {
      "cell_type": "code",
      "source": [
        "pop = [[1,7,3],[4,4,4],[5,2,1],[0,0,0],[7,8,9]]\n",
        "three = select3(pop[0],pop)\n",
        "\n",
        "print(pop)\n",
        "print(pop[0])\n",
        "print(three)\n",
        "\n",
        "\n",
        "\n",
        "\n",
        "\n",
        "\n"
      ],
      "metadata": {
        "id": "jvny8TnoNM9a",
        "colab": {
          "base_uri": "https://localhost:8080/"
        },
        "outputId": "253aeedc-202f-4d40-e96e-940c9a8c5d82"
      },
      "execution_count": null,
      "outputs": [
        {
          "output_type": "stream",
          "name": "stdout",
          "text": [
            "[[1, 7, 3], [4, 4, 4], [5, 2, 1], [0, 0, 0], [7, 8, 9]]\n",
            "[1, 7, 3]\n",
            "[[7, 8, 9], [4, 4, 4], [5, 2, 1]]\n"
          ]
        }
      ]
    },
    {
      "cell_type": "markdown",
      "source": [
        "Mutation/crossover"
      ],
      "metadata": {
        "id": "VSBZKn6VSLOp"
      }
    },
    {
      "cell_type": "markdown",
      "source": [
        "![image.png](data:image/png;base64,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)"
      ],
      "metadata": {
        "id": "xrdIP-lkjFfY"
      }
    },
    {
      "cell_type": "code",
      "source": [
        "def mutation(parentalVector,three):\n",
        "  count = 0\n",
        "  A = three[0]\n",
        "  B = three[1]\n",
        "  C = three[2]\n",
        "\n",
        "  trial = []\n",
        "\n",
        "  while count < len(parentalVector):\n",
        "    R = random.random()\n",
        "    if R < CR:\n",
        "      X = A[count] + F*abs(B[count]-C[count])\n",
        "      trial.append(X)\n",
        "    else:\n",
        "      trial.append(parentalVector[count])\n",
        "    count += 1\n",
        "  return trial\n",
        "\n"
      ],
      "metadata": {
        "id": "h6vj1tPSSN-h"
      },
      "execution_count": null,
      "outputs": []
    },
    {
      "cell_type": "code",
      "source": [
        "pop = [[1, 7, 3], [4, 4, 4], [5, 2, 1], [0, 0, 0], [7, 8, 9]]\n",
        "parental = pop[0]\n",
        "m = mutation(parental,select3(parental,pop))\n",
        "\n",
        "print(parental)\n",
        "print(m)\n",
        "print(pop)\n",
        "\n",
        "\n"
      ],
      "metadata": {
        "id": "OL0Kq-Xz5KiX"
      },
      "execution_count": null,
      "outputs": []
    },
    {
      "cell_type": "markdown",
      "source": [
        "Best vector"
      ],
      "metadata": {
        "id": "zmEN9lYiyV_u"
      }
    },
    {
      "cell_type": "code",
      "source": [
        "def bestVector(pop):\n",
        "  scores = []\n",
        "  for i in pop:\n",
        "    scores.append(divergence(i))\n",
        "  indice = scores.index(min(scores))\n",
        "  return pop[indice]\n",
        "\n",
        "\n"
      ],
      "metadata": {
        "id": "mvexSTG2yXz-"
      },
      "execution_count": null,
      "outputs": []
    },
    {
      "cell_type": "code",
      "source": [
        "pop1 = population(10)\n",
        "bestV = bestVector(pop1)\n",
        "\n",
        "print(pop1)\n",
        "print(bestV)\n",
        "print(divergence(bestV))\n",
        "\n",
        "\n",
        "\n",
        "\n",
        "\n",
        "\n"
      ],
      "metadata": {
        "id": "XW9qmJ9o_GOb",
        "colab": {
          "base_uri": "https://localhost:8080/"
        },
        "outputId": "6e6d82d1-11a8-4e5b-b856-ae2753f3f0ba"
      },
      "execution_count": null,
      "outputs": [
        {
          "output_type": "stream",
          "name": "stdout",
          "text": [
            "[[16.044869556316648, 147.83267963071873, 6.081968852130658, 91.14317381672417, 186.78463493393517], [134.11147181336213, 176.84708518048376, 128.37488038701684, 178.55386178480126, 108.88219372140749], [105.13819898368598, 139.74606401787395, 90.8580670115185, 168.6702113057291, 184.16713872263537], [172.34560569945822, 98.0399341917649, 115.36782776235552, 125.58474067812615, 116.06636820729285], [37.3043999983413, 56.61170987418167, 131.19148669595305, 186.50574945542408, 10.661497644187927], [173.57092281780174, 128.28889170303722, 196.200992356987, 92.41579103059287, 51.442192118739285], [64.04137678877643, 51.510994200494636, 106.8537282531293, 52.93154376354013, 190.7970613384991], [157.7873645257237, 171.4466016532629, 147.66026627052716, 163.08525049177723, 16.21811884330319], [174.04816417174084, 173.95383530290712, 44.850692656980804, 187.58802046310845, 131.13393760924097], [119.23717817737695, 122.37673917620249, 101.55034263443508, 25.943857470063108, 89.31020295760506]]\n",
            "[134.11147181336213, 176.84708518048376, 128.37488038701684, 178.55386178480126, 108.88219372140749]\n",
            "6.781229429969045\n"
          ]
        }
      ]
    },
    {
      "cell_type": "code",
      "source": [
        "\n",
        "\n",
        "\n"
      ],
      "metadata": {
        "id": "-21vbAuDgabP"
      },
      "execution_count": null,
      "outputs": []
    },
    {
      "cell_type": "markdown",
      "source": [
        "Algorithm"
      ],
      "metadata": {
        "id": "9bQHT0nZWYCs"
      }
    },
    {
      "cell_type": "code",
      "source": [
        "popul = population(5)\n",
        "bests = []\n",
        "\n",
        "for i in range(150):\n",
        "  for j in popul:\n",
        "    tri = select3(j,popul) \n",
        "    trial = mutation(j,tri)\n",
        "    if divergence(trial) < divergence(j):\n",
        "      popul.remove(j)\n",
        "      popul.append(trial)\n",
        "  print(f'Best vector {bestVector(popul)}')\n",
        "  print(f'Fitness value: {divergence(bestVector(popul))}')\n",
        "  bests.append(divergence(bestVector(popul)))\n",
        "  print()\n",
        "\n",
        "plt.plot(bests)\n",
        "plt.xlabel('Iterations')\n",
        "plt.ylabel('Fitness value')\n",
        "plt.title('Divergence values')\n",
        "plt.show()\n",
        "\n"
      ],
      "metadata": {
        "id": "7ydRTtbmUuvZ"
      },
      "execution_count": null,
      "outputs": []
    },
    {
      "cell_type": "code",
      "source": [
        "divergence([38.17914215025426, 19.177136865465904, 274.78521768501264, 257.12827590436353, 80.05218735225124],show=True)"
      ],
      "metadata": {
        "id": "Q1VTbQ8VFM5b"
      },
      "execution_count": null,
      "outputs": []
    }
  ]
}